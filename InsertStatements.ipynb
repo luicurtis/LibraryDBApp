{
 "cells": [
  {
   "cell_type": "code",
   "execution_count": 1,
   "metadata": {},
   "outputs": [],
   "source": [
    "%load_ext sql"
   ]
  },
  {
   "cell_type": "code",
   "execution_count": 2,
   "metadata": {
    "scrolled": true
   },
   "outputs": [
    {
     "output_type": "execute_result",
     "data": {
      "text/plain": "'Connected: @library.db'"
     },
     "metadata": {},
     "execution_count": 2
    }
   ],
   "source": [
    "%sql sqlite:///library.db"
   ]
  },
  {
   "cell_type": "code",
   "execution_count": 3,
   "metadata": {},
   "outputs": [
    {
     "output_type": "stream",
     "name": "stdout",
     "text": "* sqlite:///library.db\n20 rows affected.\n"
    },
    {
     "output_type": "execute_result",
     "data": {
      "text/plain": "[]"
     },
     "metadata": {},
     "execution_count": 3
    }
   ],
   "source": [
    "%%sql \n",
    "INSERT INTO PhysicalLibraryItems(AssetTag, Status, ShelfNumber)\n",
    "\tVALUES\t(1,\t'Checked Out',\t4),\n",
    "\t\t\t(2,\t'Checked Out',\t3),\n",
    "\t\t\t(3,\t'Checked Out',\t2),\n",
    "\t\t\t(4,\t'Checked Out',\t5),\n",
    "\t\t\t(5,\t'Checked Out',\t5),\n",
    "\t\t\t(6,\t'Checked Out',\t6),\n",
    "\t\t\t(7,\t'Checked Out',\t7),\n",
    "\t\t\t(8,\t'Checked Out',\t5),\n",
    "\t\t\t(9,\t'Checked Out',\t53),\n",
    "\t\t\t(10,\t'Checked Out',\t23),\n",
    "\t\t\t(11,\t'Reserved',\t12),\n",
    "\t\t\t(12,\t'Reserved',\t61),\n",
    "\t\t\t(13,\t'Available',\t32),\n",
    "\t\t\t(14,\t'Available',\t6),\n",
    "\t\t\t(15,\t'Available',\t56),\n",
    "\t\t\t(16,\t'Checked Out',\t5),\n",
    "\t\t\t(17,\t'Reserved',\t33),\n",
    "\t\t\t(18,\t'Reserved',\t11),\n",
    "\t\t\t(19,\t'Reserved',\t3),\n",
    "\t\t\t(20,\t'Reserved', 55);\t\t"
   ]
  },
  {
   "cell_type": "code",
   "execution_count": 4,
   "metadata": {},
   "outputs": [
    {
     "output_type": "stream",
     "name": "stdout",
     "text": "* sqlite:///library.db\n10 rows affected.\n"
    },
    {
     "output_type": "execute_result",
     "data": {
      "text/plain": "[]"
     },
     "metadata": {},
     "execution_count": 4
    }
   ],
   "source": [
    "%%sql\n",
    "INSERT INTO Publications(AssetTag, Status, ShelfNumber, ISBN, Title, Genre, Author, Subject, Edition, Type, ContentRating, Publisher, DateOfPublication)\n",
    "    VALUES  (1,\t'Checked Out',\t4,\t8856105745028,\t'The House',\t                    'Fiction',\t        'Robert Stewart',\tNULL,\t        1,\t    'Book',\t                NULL,\t'Book Publisher Co.',\t'2003-02-06'),\n",
    "            (2,\t'Checked Out',\t3,\t3217896471029,\t'The Power of Habit',\t            'Self Help',\t    'Charles Duhigg',\tNULL,\t        1,\t    'Book',\t                NULL,\t'Book Publisher Co.',\t'2012-04-23'),\n",
    "            (3,\t'Checked Out',\t2,\t6593719756384,\t'Coding for Toddlers',\t            'Science-Fiction',  'John Smith',\t    NULL,\t        2,\t    'Book',\t                NULL,\t'Some Publisher',\t'2001-05-02'),\n",
    "            (4,\t'Checked Out',\t5,\t5670316635487,\t'Databases for Dummies',            'Science',\t        'Mike Williams',\tNULL,\t        7,\t    'Book',\t                NULL,\t'A cool publisher',\t'2015-08-05'),\n",
    "            (5,\t'Checked Out',\t5,\t9465720573824,\t'People Magazine',\t                'Lifestyle',\t    'Meredith Tuck',\tNULL,\t        NULL,\t'Magazine',\t            'PG-13',\t'A cool publisher',\t'2017-01-06'),\n",
    "            (6,\t'Checked Out',\t    6,\t5708562857263,\t'Food Network Magazine',            'Lifestyle',\t    'Karen Jones',\t    NULL,\t        NULL,\t'Magazine',\t            'E',\t'Some Publisher',\t'2000-08-04'),\n",
    "            (7,\t'Checked Out',\t7,\t5748903485682,\t'Forbes Mazagine',\t                'Business',\t        'Steve Forbes',\t    NULL,\t        NULL,\t'Magazine',\t            'E',\t'A cool publisher',\t'2019-07-23'),\n",
    "            (8,\t'Checked Out',\t    5,\t3856002475627,\t'Establishing a Database',\t        'Science',\t        'Joseph Michaels',\t'Engineering',\tNULL,\t'Scientific Journal',\tNULL,\t'Book Publisher Co.',\t'2014-09-03'),\n",
    "            (9,\t'Checked Out',\t    53,\t3967164057235,\t'Architecture Solutions for SaaS',  'Science',\t        'Thomas Right',\t    'Engineering',\tNULL,\t'Scientific Journal',\tNULL,\t'Some Publisher',\t'2010-11-24'),\n",
    "            (10,'Checked Out',\t23,\t9265816563198,\t'How to make a database', \t        'Science',\t        'Jessica White',\t'Engineering',\tNULL,\t'Scientific Journal',\tNULL,\t'Book Publisher Co.',\t'2018-10-03');"
   ]
  },
  {
   "cell_type": "code",
   "execution_count": 5,
   "metadata": {},
   "outputs": [
    {
     "output_type": "stream",
     "name": "stdout",
     "text": "* sqlite:///library.db\n10 rows affected.\n"
    },
    {
     "output_type": "execute_result",
     "data": {
      "text/plain": "[]"
     },
     "metadata": {},
     "execution_count": 5
    }
   ],
   "source": [
    "%%sql\n",
    "INSERT INTO Media(AssetTag, Status, ShelfNumber, Title, YearReleased, Genre, ProductionStudio, Artist, Length, NumTracks, Rating, Type)\n",
    "    VALUES  (11,\t'Reserved',\t    12,\t'A.I. Artificial Intelligence',\t'2001',\t'Sci-Fi',\t'Cool Productions', \tNULL,\t            6, \tNULL,\t        'PG-13',\t'DVD'),\n",
    "            (12,\t'Reserved', \t61,\t'The Abyss',\t                '1989',\t'Adventure',\t'Disney',\t        NULL,\t            1,\tNULL,\t        'PG-13',\t'DVD'),\n",
    "            (13,\t'Available',\t32,\t'Adaption',\t                    '2002',\t'Comedy',\t'Haha Production',\t    NULL,\t            21,\tNULL,\t        'R',\t'DVD'),\n",
    "            (14,\t'Available',\t6,\t'Dangerous Woman',\t            '2019',\t'Romance',\t'Grande Productions',\t'Ariana Grande',\t4,\t    23, \t'E',\t'CD'),\n",
    "            (15,\t'Available',\t56,\t'Dangerous Man',\t            '2020',\t'Comedy',\t'Haha Productions',\t    'Jonas Brothers',\t4,      4,\t    'E',\t'CD'),\n",
    "            (16,    'Checked Out',\t5,\t'An old record',\t            '1518',\t'Blues',\t'BC Productions',\t    'Blues Clues',\t    2,\t     4,       'PG-13',\t'Record'),\n",
    "            (17,\t'Reserved', \t33,\t'No one will listen',       \t'1990',\t'Metal',\t'Sick Beats Productions',\t'Sick Tunes',\t4,\t     4,  'M',\t'Record'),\n",
    "            (18,\t'Reserved',\t    11,\t'Animal Crossing: New Horizons', '2019','Entertainment',\t'Nintendo',\t    NULL,\t            NULL,\tNULL,\t'E',\t'VideoGame'),\n",
    "            (19,\t'Reserved',\t    3,\t'Lets Go Pokemon',\t            '2018',\t'Entertainment',\t'GameFreak',    NULL,\t            NULL,\tNULL,\t'E',\t'VideoGame'),\n",
    "            (20,\t'Reserved',\t    55,\t'Mario Kart',\t                '2018',\t'Entertainment',\t'Nintendo',\t    NULL,\t            NULL,\tNULL,\t'E',\t'VideoGame');"
   ]
  },
  {
   "cell_type": "code",
   "execution_count": 6,
   "metadata": {},
   "outputs": [
    {
     "output_type": "stream",
     "name": "stdout",
     "text": "* sqlite:///library.db\n10 rows affected.\n"
    },
    {
     "output_type": "execute_result",
     "data": {
      "text/plain": "[]"
     },
     "metadata": {},
     "execution_count": 6
    }
   ],
   "source": [
    "%%sql \n",
    "INSERT INTO OnlineBooks(ISBN, Title, DateOfPublication, Genre, Link, Publisher, Author)\n",
    "    VALUES  (8856105745028,\t'The House',\t'2003-02-06',\t'Fiction',\t'http://onlinebook0.library',\t'Book Publisher Co.',\t'Robert Stewart'),\n",
    "            (3217896471029,\t'The Power of Habit',\t'2012-04-23',\t'Self Help',\t'http://onlinebook1.library\t', 'Book Publisher Co.',\t'Charles Duhigg'),\n",
    "            (6593719756384,\t'Coding for Toddlers',\t'2001-05-02',\t'Science-Fiction',\t'http://onlinebook2.library',\t'Some Publisher',\t'John Smith'),\n",
    "            (5670316635487,\t'Databases for Dummies',\t'2015-08-05',\t'Science',\t'http://onlinebook3.library',\t'A cool publisher',\t'Mike Williams'),\n",
    "            (9465720573824,\t'People Magazine',\t'2017-01-06',\t'Lifestyle',\t'http://onlinebook4.library',\t'A cool publisher',\t'Meredith Tuck'),\n",
    "            (5708562857263,\t'Food Network Magazine',\t'2000-08-04',\t'Lifestyle',\t'http://onlinebook5.library',\t'Some Publisher',\t'Karen Jones'),\n",
    "            (5748903485682,\t'Forbes Mazagine',\t'2019-07-23',\t'Business',\t'http://onlinebook6.library',\t'A cool publisher',\t'Steve Forbes'),\n",
    "            (3856002475627,\t'Establishing a Database',\t'2014-09-03',\t'Science',\t'http://onlinebook7.library',\t'Book Publisher Co.',\t'Joseph Michaels'),\n",
    "            (3967164057235,\t'Architecture Solutions for SaaS',\t'2010-11-24',\t'Science',\t'http://onlinebook8.library',\t'Some Publisher',\t'Thomas Right'),\n",
    "            (9265816563198,\t'How to make a database',\t'2018-10-03',\t'Science',\t'http://onlinebook9.library',\t'Book Publisher Co.',\t'Jessica White');"
   ]
  },
  {
   "cell_type": "code",
   "execution_count": 7,
   "metadata": {},
   "outputs": [
    {
     "output_type": "stream",
     "name": "stdout",
     "text": "* sqlite:///library.db\n10 rows affected.\n"
    },
    {
     "output_type": "execute_result",
     "data": {
      "text/plain": "[]"
     },
     "metadata": {},
     "execution_count": 7
    }
   ],
   "source": [
    "%%sql\n",
    "\n",
    "INSERT INTO LibraryEvents(EventName, DateOfEvent, Fee, Location, RecommendedAge, Type)\n",
    "    Values('Magic Show','2020-05-02', 2.50, 'Library Room 1', 12, 'Magic'),\n",
    "        ('Book Club','2020-03-21', 0, 'Library Room 2', 6, 'Reading'),\n",
    "        ('Science Book Club','2020-06-02', 0, 'Library Room 1', 13, 'Reading'),\n",
    "        ('Science Show','2020-10-02', 1.50, 'Library Room 3', 14, 'Science Show'),\n",
    "        ('Adult Book Club','2020-11-13', 0, 'Library Room 4', 20, 'Reading'),\n",
    "        ('Elvis Presley Listening','2020-04-20', 0.50, 'Library Room 1', 30, 'Music'),\n",
    "        ('Rock Show','2020-11-15', 10, 'Main Hall', 18, 'Concert'),\n",
    "        ('Motivational Speech','2020-09-09', 5.00, 'Library Room 3', 18, 'Motivation'),\n",
    "        ('AA','2020-05-02', 0, 'Library Room 2', 21, 'Support'),\n",
    "        ('Corona Virus Aid','2020-08-18', 10, 'Library Room 2', 21, 'Charity');\n",
    "    "
   ]
  },
  {
   "cell_type": "code",
   "execution_count": 8,
   "metadata": {},
   "outputs": [
    {
     "output_type": "stream",
     "name": "stdout",
     "text": "* sqlite:///library.db\n10 rows affected.\n"
    },
    {
     "output_type": "execute_result",
     "data": {
      "text/plain": "[]"
     },
     "metadata": {},
     "execution_count": 8
    }
   ],
   "source": [
    "%%sql \n",
    "\n",
    "INSERT INTO LibraryEmployees(SIN, FirstName, LastName, Address, Email, DateOfBirth, Salary, PhoneNumber)\n",
    "    Values('123456789', 'Sam', 'Rock', '31 Homer Street', 'SamRock@gmail.com', '1996-03-28', 12000, '604-318-8989'),\n",
    "          ('333456789', 'Dylan', 'Hope', '213 Tehran Street', 'DylanHope@gmail.com', '1966-01-08', 29000, '604-333-4444'),\n",
    "          ('999999999', 'Lucifer', 'Hell', '666 Hear Place', 'Devil@yahoo.com', '1926-12-04', 60000, '604-666-4321'),\n",
    "          ('333444556', 'Potato', 'Seebzamini', '22 French Fry Street', 'Salty@hotmail.com', '2000-10-31', 30000, '604-604-6041'),\n",
    "          ('420420678', 'Manly', 'Pebble', '314 Marine Drive', 'Wish2Rock@gmail.com', '1999-09-09', 42000, '604-331-4141'),\n",
    "          ('181818989', 'Farbod', 'Shah', '31 Cordova Street', 'Fshah@Outlook.com', '1998-02-18', 82000, '604-313-9000'),\n",
    "          ('465465890', 'Nima', 'Tiktok', '89 Crystal Street', 'Nimarocks@gmail.com', '1998-09-11', 89430, '604-218-3366'),\n",
    "          ('890098414', 'Armin', 'Bug', '549 Greenleaf Rd', 'Amazin31@gmail.com', '1999-01-01', 32000, '778-123-6890'),\n",
    "          ('010101020', 'Mouse', 'Potter', '00 Hogwarts Street', 'MagicRules@gmail.com', '2002-01-31', 56400, '604-118-9000'),\n",
    "          ('222222222', 'Ralzanda', 'Mickey', '218 Halfway Street', 'MickeyWannabe@gmail.com', '1991-02-02', 13000, '604-338-8909');\n",
    "          "
   ]
  },
  {
   "cell_type": "code",
   "execution_count": 9,
   "metadata": {},
   "outputs": [
    {
     "output_type": "stream",
     "name": "stdout",
     "text": "* sqlite:///library.db\n16 rows affected.\n"
    },
    {
     "output_type": "execute_result",
     "data": {
      "text/plain": "[]"
     },
     "metadata": {},
     "execution_count": 9
    }
   ],
   "source": [
    "%%sql\n",
    "\n",
    "\n",
    "INSERT INTO FutureItems(ItemName, Type)\n",
    "    Values('Harry Potter 1', 'Book'),\n",
    "          ('Fifa 2020', 'VideoGame'),\n",
    "          ('Hustle', 'DVD'),\n",
    "          ('Research into Pandemics', 'Scientific Journal'),\n",
    "          ('Thomas the Engine', 'Book'),\n",
    "          ('Frank Sinatra', 'Record'),\n",
    "          ('Love is Blind', 'Dvd'),\n",
    "          ('Vogue: Quarantine Fasion', 'Magazine'),\n",
    "          ('SQL Databases', 'Book'),\n",
    "          ('Fashion History', 'Magazine'),\n",
    "          ('National Geographic', 'Magazine'),\n",
    "          ('NBA2k20','VideoGame'),\n",
    "          ('Charlie and the Chocolate Factory','Dvd'),\n",
    "          ('One Less Lonley Girl','CD'),\n",
    "          ('Never say never','CD'),\n",
    "          ('Once he saw her he never saw again', 'Book');"
   ]
  },
  {
   "cell_type": "code",
   "execution_count": 10,
   "metadata": {},
   "outputs": [
    {
     "output_type": "stream",
     "name": "stdout",
     "text": "* sqlite:///library.db\n10 rows affected.\n"
    },
    {
     "output_type": "execute_result",
     "data": {
      "text/plain": "[]"
     },
     "metadata": {},
     "execution_count": 10
    }
   ],
   "source": [
    "%%sql \n",
    "    \n",
    "INSERT INTO DonatedBy(CardNumber, DonerFirstName, DonerLastName, ItemName)\n",
    "    Values(1, 'Steve', 'Lighvan', 'Harry Potter 1'),\n",
    "          (2, 'Curtis', 'Lit', 'Fifa 2020'),\n",
    "          (3, 'Soroush', 'Salami', 'Hustle'),\n",
    "          (4, 'Sina', 'Chak','Research into Pandemics'),\n",
    "          (5, 'Bebo', 'Bobandis', 'Thomas the Engine'),\n",
    "          (6, 'Chris', 'Money', 'Frank Sinatra'),\n",
    "          (7, 'Tony', 'Rock', 'Love is Blind'),\n",
    "          (8, 'Tanya', 'Chicken', 'Vogue: Quarantine Fasion'),\n",
    "          (9, 'Turkey', 'Alta', 'SQL Databases'),\n",
    "          (10, 'Corona', 'Salamander', 'Fashion History');"
   ]
  },
  {
   "cell_type": "code",
   "execution_count": 11,
   "metadata": {},
   "outputs": [
    {
     "output_type": "stream",
     "name": "stdout",
     "text": "* sqlite:///library.db\n10 rows affected.\n"
    },
    {
     "output_type": "execute_result",
     "data": {
      "text/plain": "[]"
     },
     "metadata": {},
     "execution_count": 11
    }
   ],
   "source": [
    "%%sql \n",
    "\n",
    "INSERT INTO Working(EventName, DateOfEvent, SIN, FirstName, LastName)\n",
    "    Values('Magic Show','2020-05-02','123456789', 'Sam', 'Rock'),\n",
    "          ('Book Club','2020-03-21', '333456789', 'Dylan', 'Hope'),\n",
    "          ('Science Book Club','2020-06-02','999999999', 'Lucifer', 'Hell'),\n",
    "          ('Science Show','2020-10-02','333444556', 'Potato', 'Seebzamini'),\n",
    "          ('Adult Book Club','2020-11-13','420420678', 'Manly', 'Pebble'),\n",
    "          ('Elvis Presley Listening','2020-04-20','181818989', 'Farbod', 'Shah'),\n",
    "          ('Rock Show','2020-11-15','465465890', 'Nima', 'Tiktok'),\n",
    "          ('Motivational Speech','2020-09-09','890098414', 'Armin', 'Bug'),\n",
    "          ('AA','2020-05-02','010101020', 'Mouse', 'Potter'),\n",
    "          ('Corona Virus Aid','2020-08-18', '222222222', 'Ralzanda', 'Mickey');"
   ]
  },
  {
   "cell_type": "code",
   "execution_count": 12,
   "metadata": {},
   "outputs": [
    {
     "output_type": "stream",
     "name": "stdout",
     "text": "* sqlite:///library.db\n10 rows affected.\n"
    },
    {
     "output_type": "execute_result",
     "data": {
      "text/plain": "[]"
     },
     "metadata": {},
     "execution_count": 12
    }
   ],
   "source": [
    "%%sql \n",
    "    \n",
    "INSERT INTO Attending(EventName, DateOfEvent, CardNumber, FirstName, LastName)\n",
    "    Values('Magic Show','2020-05-02',1, 'Steve', 'Lighvan'),\n",
    "          ('Magic Show','2020-05-02',2, 'Curtis', 'Lit'),\n",
    "          ('Magic Show','2020-05-02',4, 'Sina', 'Chak'),\n",
    "          ('Magic Show','2020-05-02',5, 'Bebo', 'Bobandis'),\n",
    "          ('Magic Show','2020-05-02',11, 'Bud', 'Zaviar'),\n",
    "          ('Science Book Club', '2020-06-02',1, 'Steve', 'Lighvan'),\n",
    "          ('Adult Book Club', '2020-11-13',2, 'Curtis', 'Lit'),\n",
    "          ('Elvis Presley Listening', '2020-04-20', 4, 'Sina', 'Chak'),\n",
    "          ('AA','2020-05-02',5, 'Bebo', 'Bobandis'),\n",
    "          ('Corona Virus Aid','2020-08-18',11, 'Bud', 'Zaviar');"
   ]
  },
  {
   "cell_type": "code",
   "execution_count": 13,
   "metadata": {},
   "outputs": [
    {
     "output_type": "stream",
     "name": "stdout",
     "text": "* sqlite:///library.db\n(sqlite3.OperationalError) unrecognized token: \"'1998-12-26, NULL,\tNULL);\"\n[SQL: INSERT INTO BorrowedBy (AssetTag, CardNumber, DateBorrowed, DateDue, DateReturned)\n    VALUES  (1,\t1,\t'2019-01-02',\tNULL,\tNULL),\n            (2,\t2,\t'2020-02-22',\tNULL,\tNULL),\n            (3,\t3,\t'2020-03-20',\tNULL,\tNULL),\n            (4,\t4,\t'2001-03-15',\tNULL,\tNULL),\n            (5,\t5,\t'2001-03-16',\tNULL,\tNULL),\n            (6,\t6,\t'1998-03-02',\tNULL,\tNULL),\n            (7,\t7,\t'2020-04-01',\tNULL,\tNULL),\n            (8,\t8,\t'2006-01-26',\tNULL,\tNULL),\n            (9,\t9,\t'2003-01-29',\tNULL,\tNULL),\n            (10, 10, '1998-12-26, NULL,\tNULL);]\n(Background on this error at: http://sqlalche.me/e/e3q8)\n"
    }
   ],
   "source": [
    "%%sql\n",
    "INSERT INTO BorrowedBy (AssetTag, CardNumber, DateBorrowed, DateDue, DateReturned)\n",
    "    VALUES  (1,\t1,\t'2019-01-02',\tNULL,\tNULL),\n",
    "            (2,\t2,\t'2020-02-22',\tNULL,\tNULL),\n",
    "            (3,\t3,\t'2020-03-20',\tNULL,\tNULL),\n",
    "            (4,\t4,\t'2001-03-15',\tNULL,\tNULL),\n",
    "            (5,\t5,\t'2001-03-16',\tNULL,\tNULL),\n",
    "            (6,\t6,\t'1998-03-02',\tNULL,\tNULL),\n",
    "            (7,\t7,\t'2020-04-01',\tNULL,\tNULL),\n",
    "            (8,\t8,\t'2006-01-26',\tNULL,\tNULL),\n",
    "            (9,\t9,\t'2003-01-29',\tNULL,\tNULL),\n",
    "            (10, 10, '1998-12-26, NULL,\tNULL);"
   ]
  },
  {
   "cell_type": "code",
   "execution_count": 14,
   "metadata": {},
   "outputs": [
    {
     "output_type": "stream",
     "name": "stdout",
     "text": "* sqlite:///library.db\n11 rows affected.\n"
    },
    {
     "output_type": "execute_result",
     "data": {
      "text/plain": "[]"
     },
     "metadata": {},
     "execution_count": 14
    }
   ],
   "source": [
    "%%sql \n",
    "    \n",
    "INSERT INTO LibraryMembers(CardNumber, FirstName, LastName, Address, Email, DateOfBirth, PhoneNumber, Volunteer)\n",
    "    Values(1, 'Steve', 'Lighvan', '123 street', 'SL@gmail.com', '1998-05-02', '6044441234', FALSE),\n",
    "          (2, 'Curtis', 'Lit', '1234 street', 'CL@gmail.com', '1998-03-02', '6044444444', TRUE),\n",
    "          (3, 'Soroush', 'Salami', '12 street', 'SS@gmail.com', '1992-05-02', '6041241234', TRUE),\n",
    "          (4, 'Sina', 'Chak', '444 street', 'SC@gmail.com', '1940-01-02', '6043241234', FALSE),\n",
    "          (5, 'Bebo', 'Bobandis', '666 street', 'BB@gmail.com', '1948-10-12', '6041243334', FALSE),\n",
    "          (6, 'Chris', 'Money', '999 street', 'CM@gmail.com', '1938-09-31', '6044441111', FALSE),\n",
    "          (7, 'Tony', 'Rock', '100 street', 'TR@gmail.com', '1988-09-25', '60444419999', FALSE),\n",
    "          (8, 'Tanya', 'Chicken', '1 street', 'TC@gmail.com', '1928-07-32', '604444166666', True),\n",
    "          (9, 'Turkey', 'Alta', '8989 street', 'TA@gmail.com', '1938-06-12', '6044441234', FALSE),\n",
    "          (10, 'Corona', 'Salamander', '7979 street', 'CS@gmail.com', '2000-05-17', '6044414441234', FALSE),\n",
    "          (11, 'Bud', 'Zaviar', '8008 street', 'BZ@gmail.com', '1960-01-30', '60444442144', True);\n",
    "          "
   ]
  },
  {
   "cell_type": "code",
   "execution_count": 15,
   "metadata": {},
   "outputs": [
    {
     "output_type": "stream",
     "name": "stdout",
     "text": "* sqlite:///library.db\n10 rows affected.\n"
    },
    {
     "output_type": "execute_result",
     "data": {
      "text/plain": "[]"
     },
     "metadata": {},
     "execution_count": 15
    }
   ],
   "source": [
    "%%sql\n",
    "INSERT INTO DueFines(CardNumber, FirstName, LastName, AssetTag, Amount)\n",
    "    VALUES  (1, 'Steve', 'Lighvan', 1, NULL),\n",
    "            (2, 'Curtis', 'Lit', 2, NULL),\n",
    "            (3, 'Soroush', 'Salami', 3, NULL),\n",
    "            (4, 'Sina', 'Chak', 4, NULL),\n",
    "            (5, 'Bebo', 'Bobandis', 5, NULL),\n",
    "            (6, 'Chris', 'Money', 6, NULL),\n",
    "            (7, 'Tony', 'Rock', 7, NULL),\n",
    "            (8, 'Tanya', 'Chicken', 8, NULL),\n",
    "            (9, 'Turkey', 'Alta', 9, NULL),\n",
    "            (10, 'Corona', 'Salamander', 10, NULL);\n",
    ""
   ]
  }
 ],
 "metadata": {
  "kernelspec": {
   "display_name": "Python 3",
   "language": "python",
   "name": "python3"
  },
  "language_info": {
   "codemirror_mode": {
    "name": "ipython",
    "version": 3
   },
   "file_extension": ".py",
   "mimetype": "text/x-python",
   "name": "python",
   "nbconvert_exporter": "python",
   "pygments_lexer": "ipython3",
   "version": "3.7.4-final"
  }
 },
 "nbformat": 4,
 "nbformat_minor": 2
}